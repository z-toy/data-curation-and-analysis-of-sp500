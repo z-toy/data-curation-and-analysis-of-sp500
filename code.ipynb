{
 "cells": [
  {
   "cell_type": "markdown",
   "id": "68fa09f2",
   "metadata": {},
   "source": [
    "# Data Curation and Analysis of the S&P 500\n",
    "#### See project on data.world: https://data.world/ztoy/sp-500-companies-2023\n",
    "#### The goal of this assignment is to show my ability to construct, analyze, and publish a dataset of the current S&P 500 companies on data.world. The purpose was to demonstrate that I can follow best practices for open scientific research in designing and implementing my project, and make my project fully reproducible by others: from data collection to data analysis.\n",
    "#### The data from this project is taken from:  Wikipedia contributors. (2023, February 23). List of S&P 500 companies. Wikipedia. https://en.wikipedia.org/wiki/List_of_S%26P_500_companies"
   ]
  },
  {
   "cell_type": "markdown",
   "id": "4216c931",
   "metadata": {},
   "source": [
    "## Data extraction"
   ]
  },
  {
   "cell_type": "markdown",
   "id": "672f6694",
   "metadata": {},
   "source": [
    "### Importing libraries"
   ]
  },
  {
   "cell_type": "code",
   "execution_count": 216,
   "id": "ae61ab08",
   "metadata": {},
   "outputs": [
    {
     "name": "stdout",
     "output_type": "stream",
     "text": [
      "BeautifulSoup and Pandas are already installed and imported\n"
     ]
    }
   ],
   "source": [
    "try:\n",
    "    from bs4 import BeautifulSoup\n",
    "    import pandas as pd\n",
    "    import numpy as np\n",
    "    print (\"BeautifulSoup and Pandas are already installed and imported\")\n",
    "except:\n",
    "    import sys\n",
    "    !conda install --yes --prefix {sys.prefix} bs4\n",
    "    !conda install --yes --prefix {sys.prefix} pandas\n",
    "    from bs4 import BeautifulSoup\n",
    "    import pandas\n",
    "    print (\"BeautifulSoup and Pandas were not found. Installed them and imported\")\n",
    "\n",
    "import requests"
   ]
  },
  {
   "cell_type": "markdown",
   "id": "69a919c7",
   "metadata": {},
   "source": [
    "### Read the webpage and parse it with BeautifulSoup"
   ]
  },
  {
   "cell_type": "markdown",
   "id": "a6145182",
   "metadata": {},
   "source": [
    "#### Read the webpage and parse it with BeautifulSoup"
   ]
  },
  {
   "cell_type": "code",
   "execution_count": null,
   "id": "b5331fe8",
   "metadata": {},
   "outputs": [],
   "source": [
    "opened_webpage = requests.get(\"https://en.wikipedia.org/wiki/List_of_S%26P_500_companies\")\n",
    "print (\"Webpage opened successfully...\")"
   ]
  },
  {
   "cell_type": "markdown",
   "id": "5374e197",
   "metadata": {},
   "source": [
    "#### Initialize a BeautifulSoup object to read and parse the webpage read"
   ]
  },
  {
   "cell_type": "code",
   "execution_count": 217,
   "id": "51530024",
   "metadata": {
    "scrolled": true
   },
   "outputs": [
    {
     "name": "stdout",
     "output_type": "stream",
     "text": [
      "Webpage opened successfully...\n",
      "Webpage loaded and parsed successfully...\n"
     ]
    }
   ],
   "source": [
    "bs = BeautifulSoup(opened_webpage.content, \"html.parser\")\n",
    "print (\"Webpage loaded and parsed successfully...\")"
   ]
  },
  {
   "cell_type": "markdown",
   "id": "e20c4655",
   "metadata": {},
   "source": [
    "### Convert to dataframe"
   ]
  },
  {
   "cell_type": "markdown",
   "id": "7d2940a3",
   "metadata": {},
   "source": [
    "#### Read the html and converting list to dataframe"
   ]
  },
  {
   "cell_type": "code",
   "execution_count": 218,
   "id": "868bca6c",
   "metadata": {},
   "outputs": [
    {
     "data": {
      "text/html": [
       "<div>\n",
       "<style scoped>\n",
       "    .dataframe tbody tr th:only-of-type {\n",
       "        vertical-align: middle;\n",
       "    }\n",
       "\n",
       "    .dataframe tbody tr th {\n",
       "        vertical-align: top;\n",
       "    }\n",
       "\n",
       "    .dataframe thead th {\n",
       "        text-align: right;\n",
       "    }\n",
       "</style>\n",
       "<table border=\"1\" class=\"dataframe\">\n",
       "  <thead>\n",
       "    <tr style=\"text-align: right;\">\n",
       "      <th></th>\n",
       "      <th>Symbol</th>\n",
       "      <th>Security</th>\n",
       "      <th>GICS Sector</th>\n",
       "      <th>GICS Sub-Industry</th>\n",
       "      <th>Headquarters Location</th>\n",
       "      <th>Date added</th>\n",
       "      <th>CIK</th>\n",
       "      <th>Founded</th>\n",
       "    </tr>\n",
       "  </thead>\n",
       "  <tbody>\n",
       "    <tr>\n",
       "      <th>0</th>\n",
       "      <td>MMM</td>\n",
       "      <td>3M</td>\n",
       "      <td>Industrials</td>\n",
       "      <td>Industrial Conglomerates</td>\n",
       "      <td>Saint Paul, Minnesota</td>\n",
       "      <td>1957-03-04</td>\n",
       "      <td>66740</td>\n",
       "      <td>1902</td>\n",
       "    </tr>\n",
       "    <tr>\n",
       "      <th>1</th>\n",
       "      <td>AOS</td>\n",
       "      <td>A. O. Smith</td>\n",
       "      <td>Industrials</td>\n",
       "      <td>Building Products</td>\n",
       "      <td>Milwaukee, Wisconsin</td>\n",
       "      <td>2017-07-26</td>\n",
       "      <td>91142</td>\n",
       "      <td>1916</td>\n",
       "    </tr>\n",
       "    <tr>\n",
       "      <th>2</th>\n",
       "      <td>ABT</td>\n",
       "      <td>Abbott</td>\n",
       "      <td>Health Care</td>\n",
       "      <td>Health Care Equipment</td>\n",
       "      <td>North Chicago, Illinois</td>\n",
       "      <td>1957-03-04</td>\n",
       "      <td>1800</td>\n",
       "      <td>1888</td>\n",
       "    </tr>\n",
       "    <tr>\n",
       "      <th>3</th>\n",
       "      <td>ABBV</td>\n",
       "      <td>AbbVie</td>\n",
       "      <td>Health Care</td>\n",
       "      <td>Pharmaceuticals</td>\n",
       "      <td>North Chicago, Illinois</td>\n",
       "      <td>2012-12-31</td>\n",
       "      <td>1551152</td>\n",
       "      <td>2013 (1888)</td>\n",
       "    </tr>\n",
       "    <tr>\n",
       "      <th>4</th>\n",
       "      <td>ACN</td>\n",
       "      <td>Accenture</td>\n",
       "      <td>Information Technology</td>\n",
       "      <td>IT Consulting &amp; Other Services</td>\n",
       "      <td>Dublin, Ireland</td>\n",
       "      <td>2011-07-06</td>\n",
       "      <td>1467373</td>\n",
       "      <td>1989</td>\n",
       "    </tr>\n",
       "  </tbody>\n",
       "</table>\n",
       "</div>"
      ],
      "text/plain": [
       "  Symbol     Security             GICS Sector               GICS Sub-Industry  \\\n",
       "0    MMM           3M             Industrials        Industrial Conglomerates   \n",
       "1    AOS  A. O. Smith             Industrials               Building Products   \n",
       "2    ABT       Abbott             Health Care           Health Care Equipment   \n",
       "3   ABBV       AbbVie             Health Care                 Pharmaceuticals   \n",
       "4    ACN    Accenture  Information Technology  IT Consulting & Other Services   \n",
       "\n",
       "     Headquarters Location  Date added      CIK      Founded  \n",
       "0    Saint Paul, Minnesota  1957-03-04    66740         1902  \n",
       "1     Milwaukee, Wisconsin  2017-07-26    91142         1916  \n",
       "2  North Chicago, Illinois  1957-03-04     1800         1888  \n",
       "3  North Chicago, Illinois  2012-12-31  1551152  2013 (1888)  \n",
       "4          Dublin, Ireland  2011-07-06  1467373         1989  "
      ]
     },
     "execution_count": 218,
     "metadata": {},
     "output_type": "execute_result"
    }
   ],
   "source": [
    "df = pd.read_html(str(bs))\n",
    "\n",
    "df = pd.DataFrame(df[0])\n",
    "df.head()"
   ]
  },
  {
   "cell_type": "markdown",
   "id": "0b3317ee",
   "metadata": {},
   "source": [
    "### Duplication checks"
   ]
  },
  {
   "cell_type": "markdown",
   "id": "b1d925b8",
   "metadata": {},
   "source": [
    "#### Check for duplicates"
   ]
  },
  {
   "cell_type": "code",
   "execution_count": 243,
   "id": "7a0563b5",
   "metadata": {},
   "outputs": [
    {
     "name": "stdout",
     "output_type": "stream",
     "text": [
      " Number of duplicates before : 0\n"
     ]
    }
   ],
   "source": [
    "number_of_duplicates = df.duplicated().sum()\n",
    "print (f\" Number of duplicates before : {number_of_duplicates}\")"
   ]
  },
  {
   "cell_type": "markdown",
   "id": "7975978d",
   "metadata": {},
   "source": [
    "#### Delete duplicate rows (not necessary)"
   ]
  },
  {
   "cell_type": "code",
   "execution_count": 242,
   "id": "e8ceacaf",
   "metadata": {},
   "outputs": [
    {
     "name": "stdout",
     "output_type": "stream",
     "text": [
      " Number of duplicates after removing : 0\n"
     ]
    }
   ],
   "source": [
    "df = df.drop_duplicates()\n",
    "\n",
    "number_of_duplicates = df.duplicated().sum()\n",
    "print (f\" Number of duplicates after removing : {number_of_duplicates}\")"
   ]
  },
  {
   "cell_type": "markdown",
   "id": "2b516170",
   "metadata": {},
   "source": [
    "### Inspecting data and checking noisy entries"
   ]
  },
  {
   "cell_type": "markdown",
   "id": "63267680",
   "metadata": {},
   "source": [
    "#### Data types"
   ]
  },
  {
   "cell_type": "code",
   "execution_count": 220,
   "id": "3c9b025e",
   "metadata": {},
   "outputs": [
    {
     "name": "stdout",
     "output_type": "stream",
     "text": [
      "<class 'pandas.core.frame.DataFrame'>\n",
      "Int64Index: 503 entries, 0 to 502\n",
      "Data columns (total 8 columns):\n",
      " #   Column                 Non-Null Count  Dtype \n",
      "---  ------                 --------------  ----- \n",
      " 0   Symbol                 503 non-null    object\n",
      " 1   Security               503 non-null    object\n",
      " 2   GICS Sector            503 non-null    object\n",
      " 3   GICS Sub-Industry      503 non-null    object\n",
      " 4   Headquarters Location  503 non-null    object\n",
      " 5   Date added             499 non-null    object\n",
      " 6   CIK                    503 non-null    int64 \n",
      " 7   Founded                503 non-null    object\n",
      "dtypes: int64(1), object(7)\n",
      "memory usage: 35.4+ KB\n"
     ]
    }
   ],
   "source": [
    "df.info()"
   ]
  },
  {
   "cell_type": "markdown",
   "id": "fc3324dd",
   "metadata": {},
   "source": [
    "#### Describe function for numerical columns"
   ]
  },
  {
   "cell_type": "code",
   "execution_count": 244,
   "id": "b03d2954",
   "metadata": {},
   "outputs": [
    {
     "data": {
      "text/html": [
       "<div>\n",
       "<style scoped>\n",
       "    .dataframe tbody tr th:only-of-type {\n",
       "        vertical-align: middle;\n",
       "    }\n",
       "\n",
       "    .dataframe tbody tr th {\n",
       "        vertical-align: top;\n",
       "    }\n",
       "\n",
       "    .dataframe thead th {\n",
       "        text-align: right;\n",
       "    }\n",
       "</style>\n",
       "<table border=\"1\" class=\"dataframe\">\n",
       "  <thead>\n",
       "    <tr style=\"text-align: right;\">\n",
       "      <th></th>\n",
       "      <th>Date added</th>\n",
       "      <th>CIK</th>\n",
       "      <th>Founded</th>\n",
       "    </tr>\n",
       "  </thead>\n",
       "  <tbody>\n",
       "    <tr>\n",
       "      <th>count</th>\n",
       "      <td>499.000000</td>\n",
       "      <td>4.990000e+02</td>\n",
       "      <td>499.000000</td>\n",
       "    </tr>\n",
       "    <tr>\n",
       "      <th>mean</th>\n",
       "      <td>1999.551102</td>\n",
       "      <td>7.949863e+05</td>\n",
       "      <td>1955.170341</td>\n",
       "    </tr>\n",
       "    <tr>\n",
       "      <th>std</th>\n",
       "      <td>20.122988</td>\n",
       "      <td>5.555856e+05</td>\n",
       "      <td>48.667393</td>\n",
       "    </tr>\n",
       "    <tr>\n",
       "      <th>min</th>\n",
       "      <td>1957.000000</td>\n",
       "      <td>1.800000e+03</td>\n",
       "      <td>1784.000000</td>\n",
       "    </tr>\n",
       "    <tr>\n",
       "      <th>25%</th>\n",
       "      <td>1988.000000</td>\n",
       "      <td>9.761050e+04</td>\n",
       "      <td>1919.500000</td>\n",
       "    </tr>\n",
       "    <tr>\n",
       "      <th>50%</th>\n",
       "      <td>2006.000000</td>\n",
       "      <td>8.857250e+05</td>\n",
       "      <td>1970.000000</td>\n",
       "    </tr>\n",
       "    <tr>\n",
       "      <th>75%</th>\n",
       "      <td>2016.000000</td>\n",
       "      <td>1.139327e+06</td>\n",
       "      <td>1994.000000</td>\n",
       "    </tr>\n",
       "    <tr>\n",
       "      <th>max</th>\n",
       "      <td>2023.000000</td>\n",
       "      <td>1.932393e+06</td>\n",
       "      <td>2022.000000</td>\n",
       "    </tr>\n",
       "  </tbody>\n",
       "</table>\n",
       "</div>"
      ],
      "text/plain": [
       "        Date added           CIK      Founded\n",
       "count   499.000000  4.990000e+02   499.000000\n",
       "mean   1999.551102  7.949863e+05  1955.170341\n",
       "std      20.122988  5.555856e+05    48.667393\n",
       "min    1957.000000  1.800000e+03  1784.000000\n",
       "25%    1988.000000  9.761050e+04  1919.500000\n",
       "50%    2006.000000  8.857250e+05  1970.000000\n",
       "75%    2016.000000  1.139327e+06  1994.000000\n",
       "max    2023.000000  1.932393e+06  2022.000000"
      ]
     },
     "execution_count": 244,
     "metadata": {},
     "output_type": "execute_result"
    }
   ],
   "source": [
    "df.describe()"
   ]
  },
  {
   "cell_type": "code",
   "execution_count": 221,
   "id": "f56afd41",
   "metadata": {},
   "outputs": [
    {
     "name": "stdout",
     "output_type": "stream",
     "text": [
      "<class 'pandas.core.frame.DataFrame'>\n",
      "Int64Index: 499 entries, 0 to 502\n",
      "Data columns (total 8 columns):\n",
      " #   Column                 Non-Null Count  Dtype \n",
      "---  ------                 --------------  ----- \n",
      " 0   Symbol                 499 non-null    object\n",
      " 1   Security               499 non-null    object\n",
      " 2   GICS Sector            499 non-null    object\n",
      " 3   GICS Sub-Industry      499 non-null    object\n",
      " 4   Headquarters Location  499 non-null    object\n",
      " 5   Date added             499 non-null    object\n",
      " 6   CIK                    499 non-null    int64 \n",
      " 7   Founded                499 non-null    object\n",
      "dtypes: int64(1), object(7)\n",
      "memory usage: 35.1+ KB\n"
     ]
    }
   ],
   "source": [
    "df = df.dropna()\n",
    "df.info()"
   ]
  },
  {
   "cell_type": "markdown",
   "id": "65fa063f",
   "metadata": {},
   "source": [
    "### Additional transformations"
   ]
  },
  {
   "cell_type": "markdown",
   "id": "fa4a3033",
   "metadata": {},
   "source": [
    "#### Define a function for cleaning strings and converting columns to integers"
   ]
  },
  {
   "cell_type": "code",
   "execution_count": 222,
   "id": "374b903b",
   "metadata": {},
   "outputs": [
    {
     "data": {
      "text/html": [
       "<div>\n",
       "<style scoped>\n",
       "    .dataframe tbody tr th:only-of-type {\n",
       "        vertical-align: middle;\n",
       "    }\n",
       "\n",
       "    .dataframe tbody tr th {\n",
       "        vertical-align: top;\n",
       "    }\n",
       "\n",
       "    .dataframe thead th {\n",
       "        text-align: right;\n",
       "    }\n",
       "</style>\n",
       "<table border=\"1\" class=\"dataframe\">\n",
       "  <thead>\n",
       "    <tr style=\"text-align: right;\">\n",
       "      <th></th>\n",
       "      <th>Symbol</th>\n",
       "      <th>Security</th>\n",
       "      <th>GICS Sector</th>\n",
       "      <th>GICS Sub-Industry</th>\n",
       "      <th>Headquarters Location</th>\n",
       "      <th>Date added</th>\n",
       "      <th>CIK</th>\n",
       "      <th>Founded</th>\n",
       "    </tr>\n",
       "  </thead>\n",
       "  <tbody>\n",
       "    <tr>\n",
       "      <th>0</th>\n",
       "      <td>MMM</td>\n",
       "      <td>3M</td>\n",
       "      <td>Industrials</td>\n",
       "      <td>Industrial Conglomerates</td>\n",
       "      <td>Saint Paul, Minnesota</td>\n",
       "      <td>1957</td>\n",
       "      <td>66740</td>\n",
       "      <td>1902</td>\n",
       "    </tr>\n",
       "    <tr>\n",
       "      <th>1</th>\n",
       "      <td>AOS</td>\n",
       "      <td>A. O. Smith</td>\n",
       "      <td>Industrials</td>\n",
       "      <td>Building Products</td>\n",
       "      <td>Milwaukee, Wisconsin</td>\n",
       "      <td>2017</td>\n",
       "      <td>91142</td>\n",
       "      <td>1916</td>\n",
       "    </tr>\n",
       "    <tr>\n",
       "      <th>2</th>\n",
       "      <td>ABT</td>\n",
       "      <td>Abbott</td>\n",
       "      <td>Health Care</td>\n",
       "      <td>Health Care Equipment</td>\n",
       "      <td>North Chicago, Illinois</td>\n",
       "      <td>1957</td>\n",
       "      <td>1800</td>\n",
       "      <td>1888</td>\n",
       "    </tr>\n",
       "    <tr>\n",
       "      <th>3</th>\n",
       "      <td>ABBV</td>\n",
       "      <td>AbbVie</td>\n",
       "      <td>Health Care</td>\n",
       "      <td>Pharmaceuticals</td>\n",
       "      <td>North Chicago, Illinois</td>\n",
       "      <td>2012</td>\n",
       "      <td>1551152</td>\n",
       "      <td>2013</td>\n",
       "    </tr>\n",
       "    <tr>\n",
       "      <th>4</th>\n",
       "      <td>ACN</td>\n",
       "      <td>Accenture</td>\n",
       "      <td>Information Technology</td>\n",
       "      <td>IT Consulting &amp; Other Services</td>\n",
       "      <td>Dublin, Ireland</td>\n",
       "      <td>2011</td>\n",
       "      <td>1467373</td>\n",
       "      <td>1989</td>\n",
       "    </tr>\n",
       "    <tr>\n",
       "      <th>...</th>\n",
       "      <td>...</td>\n",
       "      <td>...</td>\n",
       "      <td>...</td>\n",
       "      <td>...</td>\n",
       "      <td>...</td>\n",
       "      <td>...</td>\n",
       "      <td>...</td>\n",
       "      <td>...</td>\n",
       "    </tr>\n",
       "    <tr>\n",
       "      <th>498</th>\n",
       "      <td>YUM</td>\n",
       "      <td>Yum! Brands</td>\n",
       "      <td>Consumer Discretionary</td>\n",
       "      <td>Restaurants</td>\n",
       "      <td>Louisville, Kentucky</td>\n",
       "      <td>1997</td>\n",
       "      <td>1041061</td>\n",
       "      <td>1997</td>\n",
       "    </tr>\n",
       "    <tr>\n",
       "      <th>499</th>\n",
       "      <td>ZBRA</td>\n",
       "      <td>Zebra Technologies</td>\n",
       "      <td>Information Technology</td>\n",
       "      <td>Electronic Equipment &amp; Instruments</td>\n",
       "      <td>Lincolnshire, Illinois</td>\n",
       "      <td>2019</td>\n",
       "      <td>877212</td>\n",
       "      <td>1969</td>\n",
       "    </tr>\n",
       "    <tr>\n",
       "      <th>500</th>\n",
       "      <td>ZBH</td>\n",
       "      <td>Zimmer Biomet</td>\n",
       "      <td>Health Care</td>\n",
       "      <td>Health Care Equipment</td>\n",
       "      <td>Warsaw, Indiana</td>\n",
       "      <td>2001</td>\n",
       "      <td>1136869</td>\n",
       "      <td>1927</td>\n",
       "    </tr>\n",
       "    <tr>\n",
       "      <th>501</th>\n",
       "      <td>ZION</td>\n",
       "      <td>Zions Bancorporation</td>\n",
       "      <td>Financials</td>\n",
       "      <td>Regional Banks</td>\n",
       "      <td>Salt Lake City, Utah</td>\n",
       "      <td>2001</td>\n",
       "      <td>109380</td>\n",
       "      <td>1873</td>\n",
       "    </tr>\n",
       "    <tr>\n",
       "      <th>502</th>\n",
       "      <td>ZTS</td>\n",
       "      <td>Zoetis</td>\n",
       "      <td>Health Care</td>\n",
       "      <td>Pharmaceuticals</td>\n",
       "      <td>Parsippany, New Jersey</td>\n",
       "      <td>2013</td>\n",
       "      <td>1555280</td>\n",
       "      <td>1952</td>\n",
       "    </tr>\n",
       "  </tbody>\n",
       "</table>\n",
       "<p>499 rows × 8 columns</p>\n",
       "</div>"
      ],
      "text/plain": [
       "    Symbol              Security             GICS Sector  \\\n",
       "0      MMM                    3M             Industrials   \n",
       "1      AOS           A. O. Smith             Industrials   \n",
       "2      ABT                Abbott             Health Care   \n",
       "3     ABBV                AbbVie             Health Care   \n",
       "4      ACN             Accenture  Information Technology   \n",
       "..     ...                   ...                     ...   \n",
       "498    YUM           Yum! Brands  Consumer Discretionary   \n",
       "499   ZBRA    Zebra Technologies  Information Technology   \n",
       "500    ZBH         Zimmer Biomet             Health Care   \n",
       "501   ZION  Zions Bancorporation              Financials   \n",
       "502    ZTS                Zoetis             Health Care   \n",
       "\n",
       "                      GICS Sub-Industry    Headquarters Location  Date added  \\\n",
       "0              Industrial Conglomerates    Saint Paul, Minnesota        1957   \n",
       "1                     Building Products     Milwaukee, Wisconsin        2017   \n",
       "2                 Health Care Equipment  North Chicago, Illinois        1957   \n",
       "3                       Pharmaceuticals  North Chicago, Illinois        2012   \n",
       "4        IT Consulting & Other Services          Dublin, Ireland        2011   \n",
       "..                                  ...                      ...         ...   \n",
       "498                         Restaurants     Louisville, Kentucky        1997   \n",
       "499  Electronic Equipment & Instruments   Lincolnshire, Illinois        2019   \n",
       "500               Health Care Equipment          Warsaw, Indiana        2001   \n",
       "501                      Regional Banks     Salt Lake City, Utah        2001   \n",
       "502                     Pharmaceuticals   Parsippany, New Jersey        2013   \n",
       "\n",
       "         CIK  Founded  \n",
       "0      66740     1902  \n",
       "1      91142     1916  \n",
       "2       1800     1888  \n",
       "3    1551152     2013  \n",
       "4    1467373     1989  \n",
       "..       ...      ...  \n",
       "498  1041061     1997  \n",
       "499   877212     1969  \n",
       "500  1136869     1927  \n",
       "501   109380     1873  \n",
       "502  1555280     1952  \n",
       "\n",
       "[499 rows x 8 columns]"
      ]
     },
     "execution_count": 222,
     "metadata": {},
     "output_type": "execute_result"
    }
   ],
   "source": [
    "def clean_founded(s):\n",
    "    s = s.split(\" \") \n",
    "    s = s[0]\n",
    "    \n",
    "    s = s.split(\"/\")\n",
    "    s = s[0]\n",
    "    \n",
    "    converted = int(s)\n",
    "    return converted\n",
    "\n",
    "df[\"Founded\"] = df[\"Founded\"].apply(clean_founded)\n",
    "\n",
    "def clean_date(s):\n",
    "    s = s.replace(\"<\", \"\")\n",
    "    s = s.replace(\"?\", \"\")\n",
    "    s = s.split(\"-\")\n",
    "    s = s[0]\n",
    "    \n",
    "    converted = int(s)\n",
    "    return converted\n",
    "\n",
    "df[\"Date added\"] = df[\"Date added\"].apply(clean_date)\n",
    "\n",
    "df"
   ]
  },
  {
   "cell_type": "markdown",
   "id": "b4a74afa",
   "metadata": {},
   "source": [
    "### Description of data"
   ]
  },
  {
   "cell_type": "markdown",
   "id": "fd6222bb",
   "metadata": {},
   "source": [
    "#### Symbol: str; the ticker symbol for company\n",
    "#### Security: str; the company\n",
    "#### GISC Sector: str; the company industry\n",
    "#### GISC Sub-Industry: str; the company sub-industry\n",
    "#### Headquarters Location: str; the city and state location of the company's headquarters\n",
    "#### Date Added: int; the year that the company was added to S&P 500\n",
    "#### CIK: int; government-issued company identification number\n",
    "#### Founded: int; the year that the company was founded"
   ]
  },
  {
   "cell_type": "markdown",
   "id": "a218ff5c",
   "metadata": {},
   "source": [
    "### Saving dataframe as .csv file"
   ]
  },
  {
   "cell_type": "code",
   "execution_count": 223,
   "id": "ea455b1e",
   "metadata": {},
   "outputs": [],
   "source": [
    "df.to_csv(\"S&P500.csv\")"
   ]
  },
  {
   "cell_type": "markdown",
   "id": "66386cde",
   "metadata": {},
   "source": [
    "### Histogram: What industry do most of the S&P 500 companies fall into? What does this tell us?"
   ]
  },
  {
   "cell_type": "code",
   "execution_count": 224,
   "id": "7673c941",
   "metadata": {},
   "outputs": [
    {
     "data": {
      "text/plain": [
       "[Text(0.5, 1.0, 'GICS Sector of Company vs Count in S&P 500')]"
      ]
     },
     "execution_count": 224,
     "metadata": {},
     "output_type": "execute_result"
    },
    {
     "data": {
      "image/png": "[encoded data removed]",
      "text/plain": [
       "<Figure size 432x288 with 1 Axes>"
      ]
     },
     "metadata": {
      "needs_background": "light"
     },
     "output_type": "display_data"
    }
   ],
   "source": [
    "import seaborn as sns\n",
    "\n",
    "hist = sns.histplot(df, y=\"GICS Sector\", stat = 'count')\n",
    "hist.set(title='GICS Sector of Company vs Count in S&P 500')"
   ]
  },
  {
   "cell_type": "markdown",
   "id": "b5e91a70",
   "metadata": {},
   "source": [
    "Out of the companies in the S&P 500, majority fall into Global Industry Classification Standard (GICS) category of Industrials, Health Care, Information Technology, and Financials.\n",
    "\n",
    "I found it surprising that out of all the different industries, there are Information Technology companies than any other type. This result suggests that most of the United States' largest companies are within the IT industry, followed by Industrials and Financials. "
   ]
  },
  {
   "cell_type": "markdown",
   "id": "316b3ef4",
   "metadata": {},
   "source": [
    "### Boxplot: How does the company's GICS Sector classification relate to the year it was added? "
   ]
  },
  {
   "cell_type": "code",
   "execution_count": 225,
   "id": "48f3bcf3",
   "metadata": {},
   "outputs": [
    {
     "data": {
      "text/plain": [
       "[Text(0.5, 1.0, 'GICS Sector of Company vs Year Added to S&P 500'),\n",
       " Text(0.5, 0, 'Year Added'),\n",
       " Text(0, 0.5, 'GICS Sector')]"
      ]
     },
     "execution_count": 225,
     "metadata": {},
     "output_type": "execute_result"
    },
    {
     "data": {
      "image/png": "[encoded data removed]",
      "text/plain": [
       "<Figure size 432x288 with 1 Axes>"
      ]
     },
     "metadata": {
      "needs_background": "light"
     },
     "output_type": "display_data"
    }
   ],
   "source": [
    "boxplot = sns.boxplot(y=df['GICS Sector'], x=df['Date added'])\n",
    "boxplot.set(title='GICS Sector of Company vs Year Added to S&P 500', xlabel='Year Added',ylabel='GICS Sector')"
   ]
  },
  {
   "cell_type": "markdown",
   "id": "68c6279c",
   "metadata": {},
   "source": [
    "The boxplot reveals that, on average, the S&P 500 companies that fall under the Communication Services category were most recently added to the list (mid 2010s), with Information Technology falling closely behind. In contrast, the companies that fall under the Consumer Staples category were added earliest (mid 1980s).\n",
    "\n",
    "I was surprised that the category with the most recent additions to the S&P 500 was Communication Services; my assumption was that Information Technology would be most recent given that the sector is rapidly growing."
   ]
  },
  {
   "cell_type": "markdown",
   "id": "4fe683c1",
   "metadata": {},
   "source": [
    "### Regression plot: Is there a relationship between the year a company was founded and the date it was added to the S&P 500?"
   ]
  },
  {
   "cell_type": "code",
   "execution_count": 239,
   "id": "fda16910",
   "metadata": {},
   "outputs": [
    {
     "data": {
      "text/plain": [
       "[Text(0.5, 1.0, 'Company Year Founed vs Year Added to S&P 500'),\n",
       " Text(0.5, 0, 'Year Founded'),\n",
       " Text(0, 0.5, 'Year Added')]"
      ]
     },
     "execution_count": 239,
     "metadata": {},
     "output_type": "execute_result"
    },
    {
     "data": {
      "image/png": "[encoded data removed]",
      "text/plain": [
       "<Figure size 432x288 with 1 Axes>"
      ]
     },
     "metadata": {
      "needs_background": "light"
     },
     "output_type": "display_data"
    }
   ],
   "source": [
    "regplot = sns.regplot(data=df, x=\"Founded\", y=\"Date added\")\n",
    "regplot.set(title='Company Year Founed vs Year Added to S&P 500', xlabel='Year Founded',ylabel='Year Added')"
   ]
  },
  {
   "cell_type": "code",
   "execution_count": 240,
   "id": "915ab701",
   "metadata": {},
   "outputs": [
    {
     "name": "stdout",
     "output_type": "stream",
     "text": [
      "0.46552066935482\n"
     ]
    }
   ],
   "source": [
    "from scipy.stats import pearsonr\n",
    "\n",
    "p = pearsonr(df[\"Founded\"],df[\"Date added\"])\n",
    "print(p[0])"
   ]
  },
  {
   "cell_type": "markdown",
   "id": "fc7759cc",
   "metadata": {},
   "source": [
    "According to the regression plot and our bivariate analysis, there is moderate positive association between the year a company was founded and the date it was added to the S&P 500."
   ]
  },
  {
   "cell_type": "markdown",
   "id": "08949ef2",
   "metadata": {},
   "source": [
    "### Scatterplot: double-checking"
   ]
  },
  {
   "cell_type": "code",
   "execution_count": 237,
   "id": "1450f130",
   "metadata": {},
   "outputs": [
    {
     "data": {
      "image/png": "[encoded data removed]",
      "text/plain": [
       "<Figure size 432x288 with 1 Axes>"
      ]
     },
     "metadata": {
      "needs_background": "light"
     },
     "output_type": "display_data"
    }
   ],
   "source": [
    "scatter = sns.scatterplot(data=df, x=\"Founded\", y=\"Date added\", hue=\"GICS Sector\")"
   ]
  },
  {
   "cell_type": "markdown",
   "id": "5a8be2e6",
   "metadata": {},
   "source": [
    "The above scatterplot was created to check if there was a relationship between the year a company was founded, the date it was added to the S&P 500, and the company's GISC Sector. The results show that there is no clear relationship between these variables."
   ]
  },
  {
   "cell_type": "markdown",
   "id": "963e5375",
   "metadata": {},
   "source": [
    "License Copyright: Unknown.\n",
    "License License: Unknown.\n",
    "License Contact: Unknown."
   ]
  }
 ],
 "metadata": {
  "kernelspec": {
   "display_name": "Python 3 (ipykernel)",
   "language": "python",
   "name": "python3"
  },
  "language_info": {
   "codemirror_mode": {
    "name": "ipython",
    "version": 3
   },
   "file_extension": ".py",
   "mimetype": "text/x-python",
   "name": "python",
   "nbconvert_exporter": "python",
   "pygments_lexer": "ipython3",
   "version": "3.9.7"
  }
 },
 "nbformat": 4,
 "nbformat_minor": 5
}
